{
 "cells": [
  {
   "attachments": {},
   "cell_type": "markdown",
   "metadata": {},
   "source": [
    "### Regex Practice"
   ]
  },
  {
   "cell_type": "code",
   "execution_count": 1,
   "metadata": {},
   "outputs": [],
   "source": [
    "#import the neccessary libary\n",
    "import re\n"
   ]
  },
  {
   "cell_type": "code",
   "execution_count": 2,
   "metadata": {},
   "outputs": [],
   "source": [
    "#1. Check whether the given strings contain 0xB0. Display the answer as a boolean result.\n",
    "ln1 = 'start address: 0xA0, func1 address: 0xC0'\n",
    "ln2 = 'end address: 0xFF, func2 address: 0xB0'"
   ]
  },
  {
   "cell_type": "code",
   "execution_count": 5,
   "metadata": {},
   "outputs": [
    {
     "name": "stdout",
     "output_type": "stream",
     "text": [
      "False True\n"
     ]
    }
   ],
   "source": [
    "x = bool(re.search(r'0xB0',ln1))\n",
    "y=bool(re.search(r'0xB0',ln2))\n",
    "print(x,y)"
   ]
  },
  {
   "cell_type": "code",
   "execution_count": 34,
   "metadata": {},
   "outputs": [
    {
     "name": "stdout",
     "output_type": "stream",
     "text": [
      "They ate five apples and five oranges\n"
     ]
    }
   ],
   "source": [
    "#2. Replace all occurrences of 5 with five for the given string.\n",
    "replace_all_fives = 'They ate 5 apples and 5 oranges'\n",
    "x = re.sub(r'5','five',replace_all_fives)\n",
    "print(x)\n"
   ]
  },
  {
   "cell_type": "code",
   "execution_count": 33,
   "metadata": {},
   "outputs": [
    {
     "name": "stdout",
     "output_type": "stream",
     "text": [
      "They ate five apples and 5 oranges\n"
     ]
    }
   ],
   "source": [
    "#3. Replace only the first occurrence of 5 with five for the given string.\n",
    "replace_first_five = 'They ate 5 apples and 5 oranges'\n",
    "y = replace_all_fives.replace('5','five', 1)\n",
    "print(y)"
   ]
  },
  {
   "cell_type": "code",
   "execution_count": 24,
   "metadata": {},
   "outputs": [
    {
     "name": "stdout",
     "output_type": "stream",
     "text": [
      "NEW\n",
      "user\n",
      "eat\n",
      "dinner\n"
     ]
    }
   ],
   "source": [
    "#4. For the given list, return a list of  all elements that contain the letter E or e.\n",
    "\n",
    "items = ['goal', 'NEW', 'user', 'sit', 'eat', 'dinner']\n",
    "for each in items:\n",
    "    x=re.search(r'[eE]', each)\n",
    "    if x:\n",
    "        print(each)\n",
    "    \n"
   ]
  },
  {
   "cell_type": "code",
   "execution_count": null,
   "metadata": {},
   "outputs": [],
   "source": []
  },
  {
   "cell_type": "code",
   "execution_count": 35,
   "metadata": {},
   "outputs": [
    {
     "name": "stdout",
     "output_type": "stream",
     "text": [
      "True False True False\n"
     ]
    }
   ],
   "source": [
    "#5. Check if the given strings start with be.\n",
    "line1 = 'be nice'\n",
    "line2 = '\"best!\"'\n",
    "line3 = 'better?'\n",
    "line4 = 'oh no\\nbear spotted'\n",
    "pattern = '^be'\n",
    "bool1 = bool(re.search(pattern, line1))\n",
    "bool2 = bool(re.search(pattern, line2))\n",
    "bool3 = bool(re.search(pattern, line3))\n",
    "bool4 = bool(re.search(pattern, line4))\n",
    "print(bool1, bool2, bool3, bool4,)"
   ]
  },
  {
   "cell_type": "code",
   "execution_count": 43,
   "metadata": {},
   "outputs": [
    {
     "data": {
      "text/plain": [
       "'bred brown spread credible brown.'"
      ]
     },
     "execution_count": 43,
     "metadata": {},
     "output_type": "execute_result"
    }
   ],
   "source": [
    "#6. For the given input string, change only the whole word red to brown.\n",
    "change_word = 'bred red spread credible red.'\n",
    "re.sub(r'\\bred\\b', 'brown', change_word)\n"
   ]
  },
  {
   "cell_type": "code",
   "execution_count": 65,
   "metadata": {},
   "outputs": [
    {
     "name": "stdout",
     "output_type": "stream",
     "text": [
      "nice1423\n"
     ]
    }
   ],
   "source": [
    "#7. For the given input list, filter all elements that contain 42 surrounded by more digits.\n",
    "words = ['hi42bye', 'nice1423', 'bad42', 'cool_42a', 'fake42', '_42_']\n",
    "for each in words:\n",
    "    x=re.search(r'\\d+42\\d+', each)\n",
    "    if x:\n",
    "        print(each)"
   ]
  },
  {
   "cell_type": "code",
   "execution_count": 71,
   "metadata": {},
   "outputs": [
    {
     "name": "stdout",
     "output_type": "stream",
     "text": [
      "['franky@google', 'sinatra123@yahoo']\n"
     ]
    }
   ],
   "source": [
    "#8. Write a regex so that the full email addresses are extracted. i.e.: mike@protonmail.com\n",
    "\n",
    "str = 'The advancements in biomarine studies franky@google.com with the investments necessary and Davos sinatra123@yahoo.com Then The New Yorker article on wind farms...'\n",
    "import re\n",
    "regex = (r'\\w+@\\w+')\n",
    "full_email = re.findall(regex, str)\n",
    "print(full_email)"
   ]
  },
  {
   "cell_type": "code",
   "execution_count": 72,
   "metadata": {},
   "outputs": [
    {
     "name": "stdout",
     "output_type": "stream",
     "text": [
      "['franky@', 'sinatra123@']\n"
     ]
    }
   ],
   "source": [
    "#9. This time write a regex to get only the part of the email before the \"@\" sign and include the \"@\" sign. i.e: only mike@ part from mike@protonmail.com\n",
    "\n",
    "str = 'The advancements in biomarine studies franky@google.com, with the investments necessary and Davos sinatra123@yahoo.com Then The New Yorker article on wind farms...'\n",
    "\n",
    "regex = (r'\\w+@')\n",
    "email_before = re.findall(regex, str)\n",
    "\n",
    "print(email_before)"
   ]
  },
  {
   "cell_type": "code",
   "execution_count": 2,
   "metadata": {},
   "outputs": [
    {
     "name": "stdout",
     "output_type": "stream",
     "text": [
      "['empourpr', 'palmiers']\n"
     ]
    }
   ],
   "source": [
    "#10. Find the words with exactly 8 letters using regex.\n",
    "\n",
    "import re\n",
    "\n",
    "str ='''Au pays parfume que le soleil caresse,\n",
    "J'ai connu, sous un dais d'arbres tout empourpres\n",
    "Et de palmiers d'ou pleut sur les yeux la paresse,\n",
    "Une dame creole aux charmes ignores.'''\n",
    "\n",
    "regex = (r'\\w{8}')\n",
    "letters8 = re.findall(regex, str)\n",
    "\n",
    "print(letters8)"
   ]
  },
  {
   "cell_type": "code",
   "execution_count": 8,
   "metadata": {},
   "outputs": [
    {
     "name": "stdout",
     "output_type": "stream",
     "text": [
      "['026504424']\n"
     ]
    }
   ],
   "source": [
    "#11. Complete the sentence in the string. Use regex to find your phone number.\n",
    "\n",
    "string = 'My phone number is 026504424'\n",
    "regex = (r'026504424')\n",
    "phone = re.findall(regex, string)\n",
    "\n",
    "print(phone)\n",
    "\n",
    "\n"
   ]
  },
  {
   "cell_type": "code",
   "execution_count": 13,
   "metadata": {},
   "outputs": [
    {
     "name": "stdout",
     "output_type": "stream",
     "text": [
      "MM\n"
     ]
    }
   ],
   "source": [
    "#12. Fill in your name in the string. Extract your initials using regex.\n",
    "\n",
    "String = 'Miriam'\n",
    "initials = re.sub(string,\"Miriam\", \"MM\")\n",
    "print(initials)\n"
   ]
  },
  {
   "cell_type": "code",
   "execution_count": 5,
   "metadata": {},
   "outputs": [],
   "source": [
    "# Please save your completed notebook to the drive with your name at the beginning. ex: SaraGross_regex_practice."
   ]
  },
  {
   "cell_type": "code",
   "execution_count": null,
   "metadata": {},
   "outputs": [],
   "source": []
  }
 ],
 "metadata": {
  "kernelspec": {
   "display_name": "base",
   "language": "python",
   "name": "python3"
  },
  "language_info": {
   "codemirror_mode": {
    "name": "ipython",
    "version": 3
   },
   "file_extension": ".py",
   "mimetype": "text/x-python",
   "name": "python",
   "nbconvert_exporter": "python",
   "pygments_lexer": "ipython3",
   "version": "3.9.13"
  },
  "orig_nbformat": 4,
  "vscode": {
   "interpreter": {
    "hash": "ad2bdc8ecc057115af97d19610ffacc2b4e99fae6737bb82f5d7fb13d2f2c186"
   }
  }
 },
 "nbformat": 4,
 "nbformat_minor": 2
}
