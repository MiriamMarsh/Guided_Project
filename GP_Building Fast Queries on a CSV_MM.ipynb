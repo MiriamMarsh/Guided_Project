{
 "cells": [
  {
   "cell_type": "code",
   "execution_count": 83,
   "metadata": {},
   "outputs": [],
   "source": [
    "###### Miriam Marsh - Guided Project: Building Fast Queries on a CSV"
   ]
  },
  {
   "cell_type": "code",
   "execution_count": null,
   "metadata": {},
   "outputs": [],
   "source": [
    "#I have all my code written in the cell below and all the outputs underneath each from it's own screen page."
   ]
  },
  {
   "cell_type": "code",
   "execution_count": 48,
   "metadata": {},
   "outputs": [],
   "source": [
    "import pandas as pd\n",
    "import csv\n",
    "    \n",
    "class Inventory():\n",
    "    import random\n",
    "    import csv\n",
    "    import time\n",
    "       \n",
    "    def __init__(self, csv_filename):\n",
    "        f = open(csv_filename)\n",
    "        r = csv.reader(f)\n",
    "        df = list(r)  \n",
    "        self.header=df[0]\n",
    "        self.rows=df[1:]\n",
    "        for row in self.rows:              \n",
    "            row[-1] = int(row[-1])\n",
    "        self.id_to_row={}\n",
    "        for row in self.rows:\n",
    "            self.id_to_row[row[0]] = row\n",
    "        self.prices = set()                          \n",
    "        for row in self.rows:                        \n",
    "            self.prices.add(row[-1])\n",
    "        self.rows_by_price = sorted(self.rows, key=row_price)\n",
    "    \n",
    "    def row_price(row):\n",
    "        return row[-1] \n",
    "\n",
    "        \n",
    "    def get_laptop_from_id(self,laptop_id):\n",
    "        for row in self.rows:\n",
    "            if row[0]==laptop_id:\n",
    "                return row\n",
    "        return None\n",
    "\n",
    "\n",
    "    def get_laptop_from_id_fast(self, laptop_id):   \n",
    "        if laptop_id in self.id_to_row:           \n",
    "            return self.id_to_row[laptop_id]\n",
    "        return None\n",
    "            \n",
    "    def check_promotion_dollars(self, dollars):\n",
    "        for row in self.rows:\n",
    "            if row[-1] ==dollars:\n",
    "                return True\n",
    "        for x in self.rows:\n",
    "            for y in self.rows:\n",
    "                if x[-1] + y[-1]== dollars:\n",
    "                    return True\n",
    "                return False\n",
    "            \n",
    "    def check_promotion_dollars_fast(self, dollars):\n",
    "        if dollars in self.prices:                   \n",
    "            return True\n",
    "        for price in self.prices:                    \n",
    "            if dollars - price in self.prices:\n",
    "                return True\n",
    "        return False \n",
    "                                  \n",
    "inventory = Inventory(\"laptops.csv\")\n",
    "#Page 5: Comparing the Performance\n",
    "import random\n",
    "ids = [str(random.randint(1000000, 9999999)) for _ in range(10000)]\n",
    "import time\n",
    "total_time_no_dict=0\n",
    "for each in ids:\n",
    "    start = time.time()\n",
    "    inventory.get_laptop_from_id(each)\n",
    "    end = time.time()\n",
    "    total_time_no_dict = end - start\n",
    "\n",
    "total_time_dict=0\n",
    "for each in ids:\n",
    "    start = time.time()\n",
    "    inventory.get_laptop_from_id_fast(each)\n",
    "    end = time.time()\n",
    "    total_time_dict = end - start\n",
    "prices = [random.randint(100, 5000) for _ in range(100)]\n",
    "inventory = Inventory('laptops.csv')\n",
    "total_time_no_set = 0\n",
    "for each in prices:\n",
    "    start=time.time()\n",
    "    inventory.check_promotion_dollars(each)\n",
    "    end = time.time()\n",
    "    total_time_no_set += end - start\n",
    "total_time_set = 0\n",
    "for each in prices:\n",
    "    start=time.time()\n",
    "    inventory.check_promotion_dollars_fast(each)\n",
    "    end = time.time()\n",
    "    total_time_set += end - start    "
   ]
  },
  {
   "cell_type": "code",
   "execution_count": 47,
   "metadata": {},
   "outputs": [
    {
     "name": "stdout",
     "output_type": "stream",
     "text": [
      "['Id', 'Company', 'Product', 'TypeName', 'Inches', 'ScreenResolution', 'Cpu', 'Ram', 'Memory', 'Gpu', 'OpSys', 'Weight', 'Price']\n",
      "1303\n"
     ]
    }
   ],
   "source": [
    "#Page 2: Inventory Class\n",
    "# We created a class named Inventory. We read in a file with the all the laptop info. We made attributes for header and rows and converted price column to integers.\n",
    "inventory = Inventory(\"laptops.csv\")  # step 6\n",
    "print(inventory.header)              \n",
    "print(len(inventory.rows))"
   ]
  },
  {
   "cell_type": "code",
   "execution_count": 34,
   "metadata": {},
   "outputs": [
    {
     "name": "stdout",
     "output_type": "stream",
     "text": [
      "['3362737', 'HP', '250 G6', 'Notebook', '15.6', 'Full HD 1920x1080', 'Intel Core i5 7200U 2.5GHz', '8GB', '256GB SSD', 'Intel HD Graphics 620', 'No OS', '1.86kg', 575]\n",
      "None\n"
     ]
    }
   ],
   "source": [
    "#Page 3: Finding a Laptop From the Id\n",
    "# We wrote a function which by entering the id, it will print all that laptop ids information.\n",
    "print(inventory.get_laptop_from_id('3362737'))\n",
    "print(inventory.get_laptop_from_id('3362736'))"
   ]
  },
  {
   "cell_type": "code",
   "execution_count": 35,
   "metadata": {},
   "outputs": [
    {
     "name": "stdout",
     "output_type": "stream",
     "text": [
      "['3362737', 'HP', '250 G6', 'Notebook', '15.6', 'Full HD 1920x1080', 'Intel Core i5 7200U 2.5GHz', '8GB', '256GB SSD', 'Intel HD Graphics 620', 'No OS', '1.86kg', 575]\n",
      "None\n"
     ]
    }
   ],
   "source": [
    "#Page 4: Improving Id Lookups\n",
    "# We created a function which searches for the entered id in a dictionary we created.\n",
    "# The dict has a laptop ID as a key and the lap top info as a value. We see that the function using the dict is much faster.\n",
    "inventory = Inventory(\"laptops.csv\")  \n",
    "print(inventory.get_laptop_from_id_fast('3362737'))\n",
    "print(inventory.get_laptop_from_id_fast('3362736'))         "
   ]
  },
  {
   "cell_type": "code",
   "execution_count": 54,
   "metadata": {},
   "outputs": [
    {
     "name": "stdout",
     "output_type": "stream",
     "text": [
      "7.152557373046875e-07\n",
      "0.00014734268188476562\n"
     ]
    }
   ],
   "source": [
    "#Page 5: Comparing the Performance\n",
    "# We Compared the performance of both function for id lookup. We see that the second function no_dict is way more faster and optimized than the first.\n",
    "print(total_time_dict)\n",
    "print(total_time_no_dict)   "
   ]
  },
  {
   "cell_type": "code",
   "execution_count": 51,
   "metadata": {},
   "outputs": [
    {
     "name": "stdout",
     "output_type": "stream",
     "text": [
      "True\n",
      "False\n"
     ]
    }
   ],
   "source": [
    "#Page 6: Two Laptop Promotion\n",
    "#We just checked if there is a laptop or a pair of laptops that their price adds up to exactly the price entered.\n",
    "print(inventory.check_promotion_dollars(1000))\n",
    "print(inventory.check_promotion_dollars(442))"
   ]
  },
  {
   "cell_type": "code",
   "execution_count": 49,
   "metadata": {},
   "outputs": [
    {
     "name": "stdout",
     "output_type": "stream",
     "text": [
      "True\n",
      "False\n"
     ]
    }
   ],
   "source": [
    "# Page 7: Optimizing Laptop Promotion \n",
    "#We Created a faster version of the promotion method for the check_promotion_dollars_fast function.\n",
    "inventory = Inventory('laptops.csv')    \n",
    "print(inventory.check_promotion_dollars_fast(1000))\n",
    "print(inventory.check_promotion_dollars_fast(442))"
   ]
  },
  {
   "cell_type": "code",
   "execution_count": 50,
   "metadata": {},
   "outputs": [
    {
     "name": "stdout",
     "output_type": "stream",
     "text": [
      "0.014396905899047852\n",
      "0.0007841587066650391\n"
     ]
    }
   ],
   "source": [
    "#Page 8:  Comparing Promotion Functions\n",
    "#Compare the performance of both methods for the promotion.\n",
    "#We can see a significant improvement in performance with the check promotion dollars fast function.  We see that the new method is much faster for this input size.\n",
    "print(total_time_no_set)  \n",
    "print(total_time_set)    "
   ]
  },
  {
   "cell_type": "code",
   "execution_count": null,
   "metadata": {},
   "outputs": [],
   "source": []
  }
 ],
 "metadata": {
  "kernelspec": {
   "display_name": "Python 3",
   "language": "python",
   "name": "python3"
  },
  "language_info": {
   "codemirror_mode": {
    "name": "ipython",
    "version": 3
   },
   "file_extension": ".py",
   "mimetype": "text/x-python",
   "name": "python",
   "nbconvert_exporter": "python",
   "pygments_lexer": "ipython3",
   "version": "3.8.2"
  }
 },
 "nbformat": 4,
 "nbformat_minor": 2
}
