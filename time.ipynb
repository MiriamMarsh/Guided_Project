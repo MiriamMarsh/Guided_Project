{
 "cells": [
  {
   "cell_type": "code",
   "execution_count": 1,
   "metadata": {},
   "outputs": [],
   "source": [
    "import csv\n",
    "import pandas as pd\n",
    "with open('india.csv', mode='r') as f:\n",
    "    reader = csv.reader(f)\n",
    "    next(reader)\n",
    "    cities = [row[1] for row in list(reader)]   "
   ]
  },
  {
   "attachments": {},
   "cell_type": "markdown",
   "metadata": {},
   "source": [
    "Step 1: Read in the csv, and save the cities into a list called cities.\n",
    "Step 2: Save city column into a list called target_list, and add another few cities of your choice. Extra credit, remove duplicates.\n",
    "Step 3: Adapt linear_lookup function and binsearch_lookup from dataquest.\n",
    "Step 4: Time both functions and print the output.\n",
    "Step 5: Copy and paste the code and output onto the form on the student site."
   ]
  },
  {
   "cell_type": "code",
   "execution_count": 2,
   "metadata": {},
   "outputs": [
    {
     "name": "stdout",
     "output_type": "stream",
     "text": [
      "['Delhi', 'Greater Mumbai', 'Bengaluru', 'Greater Mumbai', 'Bengaluru', 'Delhi', 'Delhi', 'Greater Mumbai', 'Delhi', 'Delhi']\n"
     ]
    }
   ],
   "source": [
    "target_list1=[]\n",
    "for city in cities:\n",
    "    a=city.split(',')\n",
    "    target_list1.append(a[0])\n",
    "print(target_list1[:10])"
   ]
  },
  {
   "cell_type": "code",
   "execution_count": 3,
   "metadata": {},
   "outputs": [
    {
     "data": {
      "text/plain": [
       "26056"
      ]
     },
     "execution_count": 3,
     "metadata": {},
     "output_type": "execute_result"
    }
   ],
   "source": [
    "target_list1+=['Jaipur','Chennai','Hyderabad','Bengaluru']\n",
    "len(target_list1)"
   ]
  },
  {
   "cell_type": "code",
   "execution_count": 4,
   "metadata": {},
   "outputs": [
    {
     "name": "stdout",
     "output_type": "stream",
     "text": [
      "986\n",
      "['Delhi', 'Greater Mumbai', 'Bengaluru', 'Ahmedabad', 'Markapur', 'Mavoor', 'Sillod', 'Nainital', 'Laharpur', 'Shenkottai']\n"
     ]
    }
   ],
   "source": [
    "target_list2 = list(dict.fromkeys(target_list1))\n",
    "print(len(target_list2))\n",
    "print(target_list2[:10])"
   ]
  },
  {
   "cell_type": "code",
   "execution_count": 5,
   "metadata": {},
   "outputs": [],
   "source": [
    "# linear search algorithm\n",
    "def linear_lookup(titles, target_title):\n",
    "    for title in titles:\n",
    "        if title == target_title:\n",
    "            return True\n",
    "    return None\n",
    "\n",
    "# binary search algorithm modified to return True or False\n",
    "def binsearch_lookup(sorted_titles, target_title):\n",
    "    range_start = 0                                   \n",
    "    range_end = len(sorted_titles) - 1                       \n",
    "    while range_start < range_end:\n",
    "        range_middle = (range_end + range_start) // 2  \n",
    "        title = sorted_titles[range_middle]\n",
    "        if title == target_title:                            \n",
    "            return True                        \n",
    "        elif title < target_title:                           \n",
    "            range_start = range_middle + 1             \n",
    "        else:                                          \n",
    "            range_end = range_middle - 1               \n",
    "    if sorted_titles[range_start] != target_title:                  \n",
    "        return False                                      \n",
    "    return True"
   ]
  },
  {
   "cell_type": "code",
   "execution_count": 6,
   "metadata": {},
   "outputs": [
    {
     "name": "stdout",
     "output_type": "stream",
     "text": [
      "0.5167555809020996\n",
      "0.004999637603759766\n"
     ]
    }
   ],
   "source": [
    "import time\n",
    "\n",
    "start = time.time()\n",
    "for title in target_list2:\n",
    "    linear_lookup(cities, title)\n",
    "end = time.time()\n",
    "time_linear = end - start\n",
    "\n",
    "start = time.time()\n",
    "sorted_titles = sorted(cities)\n",
    "for title in target_list2:\n",
    "    binsearch_lookup(sorted_titles, title)\n",
    "end = time.time()\n",
    "time_binsearch= end - start\n",
    "\n",
    "print(time_linear)\n",
    "print(time_binsearch)\n",
    "       \n",
    "    \n",
    "           "
   ]
  },
  {
   "cell_type": "code",
   "execution_count": 7,
   "metadata": {},
   "outputs": [],
   "source": [
    "## I got help from someone else. "
   ]
  }
 ],
 "metadata": {
  "kernelspec": {
   "display_name": "base",
   "language": "python",
   "name": "python3"
  },
  "language_info": {
   "codemirror_mode": {
    "name": "ipython",
    "version": 3
   },
   "file_extension": ".py",
   "mimetype": "text/x-python",
   "name": "python",
   "nbconvert_exporter": "python",
   "pygments_lexer": "ipython3",
   "version": "3.9.13"
  },
  "orig_nbformat": 4,
  "vscode": {
   "interpreter": {
    "hash": "ad2bdc8ecc057115af97d19610ffacc2b4e99fae6737bb82f5d7fb13d2f2c186"
   }
  }
 },
 "nbformat": 4,
 "nbformat_minor": 2
}
